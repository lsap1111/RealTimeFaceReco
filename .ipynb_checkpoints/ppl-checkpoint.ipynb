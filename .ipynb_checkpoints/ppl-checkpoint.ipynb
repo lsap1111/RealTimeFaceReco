{
 "cells": [
  {
   "cell_type": "code",
   "execution_count": 1,
   "id": "b62e1433-1cd1-4764-9b65-72419229f076",
   "metadata": {},
   "outputs": [
    {
     "name": "stdout",
     "output_type": "stream",
     "text": [
      "Requirement already satisfied: opencv-python in c:\\users\\hp\\appdata\\roaming\\python\\python312\\site-packages (4.11.0.86)\n",
      "Requirement already satisfied: cvlib in d:\\ana\\lib\\site-packages (0.2.7)\n",
      "Requirement already satisfied: pygame in c:\\users\\hp\\appdata\\roaming\\python\\python312\\site-packages (2.6.1)\n",
      "Requirement already satisfied: numpy>=1.21.2 in c:\\users\\hp\\appdata\\roaming\\python\\python312\\site-packages (from opencv-python) (1.26.4)\n",
      "Requirement already satisfied: progressbar in d:\\ana\\lib\\site-packages (from cvlib) (2.5)\n",
      "Requirement already satisfied: requests in c:\\users\\hp\\appdata\\roaming\\python\\python312\\site-packages (from cvlib) (2.32.3)\n",
      "Requirement already satisfied: pillow in c:\\users\\hp\\appdata\\roaming\\python\\python312\\site-packages (from cvlib) (11.1.0)\n",
      "Requirement already satisfied: imageio in d:\\ana\\lib\\site-packages (from cvlib) (2.33.1)\n",
      "Requirement already satisfied: imutils in d:\\ana\\lib\\site-packages (from cvlib) (0.5.4)\n",
      "Requirement already satisfied: charset-normalizer<4,>=2 in c:\\users\\hp\\appdata\\roaming\\python\\python312\\site-packages (from requests->cvlib) (3.4.1)\n",
      "Requirement already satisfied: idna<4,>=2.5 in c:\\users\\hp\\appdata\\roaming\\python\\python312\\site-packages (from requests->cvlib) (3.7)\n",
      "Requirement already satisfied: urllib3<3,>=1.21.1 in c:\\users\\hp\\appdata\\roaming\\python\\python312\\site-packages (from requests->cvlib) (2.2.1)\n",
      "Requirement already satisfied: certifi>=2017.4.17 in c:\\users\\hp\\appdata\\roaming\\python\\python312\\site-packages (from requests->cvlib) (2024.6.2)\n",
      "Note: you may need to restart the kernel to use updated packages.\n"
     ]
    }
   ],
   "source": [
    "pip install opencv-python cvlib pygame\n"
   ]
  },
  {
   "cell_type": "code",
   "execution_count": null,
   "id": "74beb54e-64b1-4c9c-b7f4-b9e4a9d381bf",
   "metadata": {},
   "outputs": [],
   "source": [
    "pip uninstall opencv-python-headless\n"
   ]
  },
  {
   "cell_type": "code",
   "execution_count": 1,
   "id": "d83cd924-3728-47c7-9c82-db17304a203f",
   "metadata": {},
   "outputs": [
    {
     "name": "stdout",
     "output_type": "stream",
     "text": [
      "pygame 2.6.1 (SDL 2.28.4, Python 3.12.7)\n",
      "Hello from the pygame community. https://www.pygame.org/contribute.html\n",
      "✅ All libraries imported successfully!\n"
     ]
    }
   ],
   "source": [
    "import cv2\n",
    "import cvlib\n",
    "import pygame\n",
    "\n",
    "print(\"✅ All libraries imported successfully!\")\n"
   ]
  },
  {
   "cell_type": "code",
   "execution_count": 11,
   "id": "d8e3422a-a613-47c3-b164-7067bf79626f",
   "metadata": {},
   "outputs": [
    {
     "name": "stdout",
     "output_type": "stream",
     "text": [
      "📸 Press 's' to save the authorized face. Press 'q' to quit without saving.\n",
      "✅ Authorized face saved as authorized_face.jpg\n"
     ]
    }
   ],
   "source": [
    "import cv2\n",
    "\n",
    "def capture_authorized_face(filename=\"authorized_face.jpg\"):\n",
    "    cap = cv2.VideoCapture(0)\n",
    "    print(\"📸 Press 's' to save the authorized face. Press 'q' to quit without saving.\")\n",
    "\n",
    "    while True:\n",
    "        ret, frame = cap.read()\n",
    "        if not ret:\n",
    "            print(\"❌ Failed to access webcam.\")\n",
    "            break\n",
    "\n",
    "        cv2.imshow(\"Capture Authorized Face\", frame)\n",
    "\n",
    "        key = cv2.waitKey(1) & 0xFF\n",
    "        if key == ord('s'):\n",
    "            cv2.imwrite(filename, frame)\n",
    "            print(f\"✅ Authorized face saved as {filename}\")\n",
    "            break\n",
    "        elif key == ord('q'):\n",
    "            print(\"❌ Capture cancelled.\")\n",
    "            break\n",
    "\n",
    "    cap.release()\n",
    "    cv2.destroyAllWindows()\n",
    "\n",
    "# Run the function to take the photo\n",
    "capture_authorized_face()\n"
   ]
  },
  {
   "cell_type": "code",
   "execution_count": 13,
   "id": "78714c60-bc50-49eb-8477-e2036655cb8f",
   "metadata": {},
   "outputs": [
    {
     "name": "stdout",
     "output_type": "stream",
     "text": [
      "👁️ Press 'q' to quit...\n"
     ]
    }
   ],
   "source": [
    "import cv2\n",
    "import cvlib as cv\n",
    "from cvlib.object_detection import draw_bbox\n",
    "import numpy as np\n",
    "\n",
    "# Load the authorized face\n",
    "authorized_img = cv2.imread(\"authorized_face.jpg\")\n",
    "authorized_img = cv2.resize(authorized_img, (100, 100))  # Normalize size\n",
    "authorized_gray = cv2.cvtColor(authorized_img, cv2.COLOR_BGR2GRAY)\n",
    "\n",
    "# Start webcam\n",
    "cap = cv2.VideoCapture(0)\n",
    "print(\"👁️ Press 'q' to quit...\")\n",
    "\n",
    "while True:\n",
    "    ret, frame = cap.read()\n",
    "    if not ret:\n",
    "        print(\"❌ Failed to grab frame\")\n",
    "        break\n",
    "\n",
    "    faces, confidences = cv.detect_face(frame)\n",
    "\n",
    "    for face in faces:\n",
    "        (startX, startY, endX, endY) = face\n",
    "        face_crop = frame[startY:endY, startX:endX]\n",
    "\n",
    "        try:\n",
    "            face_crop = cv2.resize(face_crop, (100, 100))\n",
    "            face_gray = cv2.cvtColor(face_crop, cv2.COLOR_BGR2GRAY)\n",
    "\n",
    "            # Compare with authorized face using Mean Squared Error (MSE)\n",
    "            error = np.sum((authorized_gray.astype(\"float\") - face_gray.astype(\"float\")) ** 2)\n",
    "            error /= float(authorized_gray.shape[0] * authorized_gray.shape[1])\n",
    "\n",
    "            if error < 1000:\n",
    "                label = \"Authorized\"\n",
    "                color = (0, 255, 0)\n",
    "            else:\n",
    "                label = \"🚨 Unauthorized\"\n",
    "                color = (0, 0, 255)\n",
    "\n",
    "            cv2.rectangle(frame, (startX, startY), (endX, endY), color, 2)\n",
    "            cv2.putText(frame, label, (startX, startY - 10),\n",
    "                        cv2.FONT_HERSHEY_SIMPLEX, 0.8, color, 2)\n",
    "\n",
    "        except:\n",
    "            pass\n",
    "\n",
    "    cv2.imshow(\"Real-Time Face Recognition\", frame)\n",
    "\n",
    "    if cv2.waitKey(1) & 0xFF == ord('q'):\n",
    "        break\n",
    "\n",
    "cap.release()\n",
    "cv2.destroyAllWindows()\n"
   ]
  }
 ],
 "metadata": {
  "kernelspec": {
   "display_name": "Python 3 (ipykernel)",
   "language": "python",
   "name": "python3"
  },
  "language_info": {
   "codemirror_mode": {
    "name": "ipython",
    "version": 3
   },
   "file_extension": ".py",
   "mimetype": "text/x-python",
   "name": "python",
   "nbconvert_exporter": "python",
   "pygments_lexer": "ipython3",
   "version": "3.12.7"
  }
 },
 "nbformat": 4,
 "nbformat_minor": 5
}
